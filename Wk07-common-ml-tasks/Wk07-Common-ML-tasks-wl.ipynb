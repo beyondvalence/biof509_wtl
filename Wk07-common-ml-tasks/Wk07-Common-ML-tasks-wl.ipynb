{
 "cells": [
  {
   "cell_type": "markdown",
   "metadata": {},
   "source": [
    "# Machine Learning"
   ]
  },
  {
   "cell_type": "markdown",
   "metadata": {},
   "source": [
    "Machine learning is increasingly in the news and pervades every aspect of our lives.\n",
    "\n",
    "Last week [AlphaGo](https://en.wikipedia.org/wiki/AlphaGo) beat Lee Sedol, a Go world champion. Go had been thought to be beyond the capabilities of machines due to its complexity.\n",
    "\n",
    "Despite the attention machine learning now receives examples of its use are now so common we can often overlook them. Machine learning protects our inboxes from spam messages, recommends purchases on shopping sites, and deciphers our handwriting to efficiently route our mail."
   ]
  },
  {
   "cell_type": "markdown",
   "metadata": {},
   "source": [
    "What is machine learning?"
   ]
  },
  {
   "cell_type": "markdown",
   "metadata": {},
   "source": [
    "> Teaching machines how to learn to carry out tasks by themselves."
   ]
  },
  {
   "cell_type": "markdown",
   "metadata": {},
   "source": [
    "Machine learning algorithms do not rely on static instructions provided by human programmers. Instead, they use examples to develop a model from which they can makes predictions or decisions. "
   ]
  },
  {
   "cell_type": "markdown",
   "metadata": {},
   "source": [
    "Machine learning is now used in many fields and for many tasks:\n",
    "- Detecting spam emails\n",
    "- Recommending products based on past purchases\n",
    "- Recognizing handwritten text\n",
    "- Image segmentation and object recognition\n",
    "- Self-driving cars\n",
    "- Speech recognition\n",
    "- and on ..."
   ]
  },
  {
   "cell_type": "markdown",
   "metadata": {},
   "source": [
    "Machine learning algorithms can be categorized in several different ways.\n",
    "\n",
    "We will discuss many of these today and explore the most commonly used in greater detail over the next several weeks."
   ]
  },
  {
   "cell_type": "markdown",
   "metadata": {},
   "source": [
    "## Type of task\n",
    "\n",
    "- In __classification__ the algorithm must assign inputs to one of two (or more) classes. \n",
    "- In __regression__ the algorithm returns a value for each sets of inputs received.\n",
    "- In __clustering__ the algorithm divides the inputs supplied into two or more subgroups.\n",
    "- In __density estimation__ the algorithm construsts an estimate for the population distribution based on a small subset of the whole.\n",
    "- Finally, __dimensionality reduction__ maps inputs on to a lower dimensional space."
   ]
  },
  {
   "cell_type": "markdown",
   "metadata": {},
   "source": [
    "## Batch vs online\n",
    "\n",
    "In __batch learning__ algorithms all the data is available and can be processed at one time. In __online learning__ algorithms only part of the data is available for inclusion at any one time."
   ]
  },
  {
   "cell_type": "markdown",
   "metadata": {},
   "source": [
    "## Supervision\n",
    "\n",
    "In __supervised learning__ each of the supplied inputs is labeled with the desired output. In __unsupervised learning__ no labels are available and the algorithm must find the underlying structure in the data itself. Somewhere in the middle is __semi-supervised learning__ in which only some of the supplied inputs also have the desired output.\n",
    "\n",
    "In __reinforcement learning__ the algorithm must interact with an environment to perform a certain goal, without explicit feedback on how well it is performing."
   ]
  },
  {
   "cell_type": "markdown",
   "metadata": {},
   "source": [
    "## Classification\n",
    "\n",
    "Classification is concerned with assigning inputs to different classes or sub-groups.\n",
    "\n",
    "Examples include predicting survivors/non-survivors, response to a therapy, etc\n",
    "\n",
    "![Example data](files/classification-data.png)\n",
    "\n",
    "![Example plot](files/classification.png)"
   ]
  },
  {
   "cell_type": "markdown",
   "metadata": {},
   "source": [
    "## Regression\n",
    "\n",
    "Regression is concerned with predicting a continuous output given an input.\n",
    "\n",
    "Examples include predicting prices, production, demand, etc.\n",
    "\n",
    "![Regression example](files/regression.png)"
   ]
  },
  {
   "cell_type": "markdown",
   "metadata": {},
   "source": [
    "## Clustering\n",
    "\n",
    "Clustering attempts to find structure in the data by grouping similar items together. The items within a group should be more similar to each other than to items in other groups. The approach taken to determine similarity and to assign items to a group can vary depending on the algorithm used.\n",
    "\n",
    "Choosing the number of groups into which to divide the observations can be challenging. Some algorithms rely on the number of groups being specified, while other algorithms choose the number of groups based on different parameters.\n",
    "\n",
    "![Otsu](clustering.png)"
   ]
  },
  {
   "cell_type": "markdown",
   "metadata": {},
   "source": [
    "## Density estimation\n",
    "\n",
    "In density estimation the goal is to determine the distribution of a population from an observed sample.\n",
    "\n",
    "The most common example is a histogram. Although simple, histograms are susceptible to misinterpretation with different bin sizes and positions significantly changing their visualization. More robust approaches avoid these issues.\n",
    "\n",
    "![kernal-density-estimation](files/density-estimation.png)"
   ]
  },
  {
   "cell_type": "markdown",
   "metadata": {},
   "source": [
    "## Dimensionality reduction\n",
    "\n",
    "Dimensionality reduction attempts to map a high-dimensional feature set on to a lower dimensional space.\n",
    "\n",
    "This approach can be used for both feature selection and feature extraction.\n",
    "\n",
    "Feature selection attempts to pick the subset of variables that best maintain the overall performance of the system.\n",
    "\n",
    "Feature extraction transforms the data in the high dimensional space into a lower dimensional space. By maximizing the variance in the transformed variables it is hoped that the most important variance in the high dimensional space is maintained.\n",
    "\n",
    "![Feature selection](files/feature-selection.png)"
   ]
  },
  {
   "cell_type": "markdown",
   "metadata": {},
   "source": [
    "## Batch learning\n",
    "\n",
    "In batch, or offline, learning all the data is available at the same time. This is the ideal situation."
   ]
  },
  {
   "cell_type": "markdown",
   "metadata": {},
   "source": [
    "## Online learning\n",
    "\n",
    "The alternative to batch learning is online learning. In this situation we don't have access to all the data. There are a variety of reasons for this. The dataset may simply be too large to process at the same time. Additional data may also be generated as a function of time. Online learning is also important when the properties of the underlying system are changing.\n",
    "\n",
    "### Statistical learning models\n",
    "\n",
    "When the system is stable the advantage of online learning is the ability to utilize the maximum amount of data. Some of the algorithms used in batch learning can also be applied for online learning with minimal modification. Ideally, an online algorithm would need only the next training example, the current state of the function and a minimal set of additional information that is independent in size to the total number of observations previously processed. \n",
    "\n",
    "Algorithms such as gradient descent are well suited to online learning. Non-linear algorithms may be harder to implement.\n",
    "\n",
    "### Adversarial models\n",
    "\n",
    "If the underlying system being modeled is changing a different approach is needed. The system may change for a variety of reasons. For example, if we were predicting mortality in patients the performance of our model would gradually drop as our therapies improve. The system may also be actively changing in an attempt to decrease the model performance. For example, detection of spam email is a constant battle between those create spam messages and those attempting to detect and capture spam emails.\n",
    "\n",
    "Regardless of the reasons for the system changing the value of recent examples will be more important than examples seen in the past. "
   ]
  },
  {
   "cell_type": "markdown",
   "metadata": {},
   "source": [
    "## Supervised learning\n",
    "\n",
    "In supervised learning a set of labeled training data is available. The task of the algorithm is to find the underlying structure in the data such that for previously unseen inputs a reasonable output can be predicted.\n",
    "\n",
    "There are a variety of different algorithms each with their particular strengths and weaknesses. \n",
    "\n",
    "![Example classification data](files/classification-data.png)"
   ]
  },
  {
   "cell_type": "markdown",
   "metadata": {},
   "source": [
    "## Unsupervised learning\n",
    "\n",
    "Unsupervised learning is concerned with finding the hidden structure in unlabeled data. Without labels evaluating the performance of a potential solution can be problematic. The approach taken will depend on the algorithm being used."
   ]
  },
  {
   "cell_type": "markdown",
   "metadata": {},
   "source": [
    "## Reinforcement learning"
   ]
  },
  {
   "cell_type": "markdown",
   "metadata": {},
   "source": [
    "Reinforcement learning focuses on adapting the behaviour of an agent in a particular environment such that the cumulative reward is maximized.\n",
    "\n",
    "Inputs are not paired with correct outputs leaving the algorithm to estimate the utility of any action based on experience. There is a trade-off between taking an action that has had a positive outcome in the past and trying alternative actions that may have higher rewards.\n",
    "\n",
    "The important point here is that taking the optimal action can have no reward, and taking an inferior action can have a positive reward. Knowing which is which only becomes clear with multiple trials.\n",
    "\n",
    "This trade-off is perhaps most widely studied in multi-armed bandit problems."
   ]
  },
  {
   "cell_type": "markdown",
   "metadata": {},
   "source": [
    "### Optimizing for page views\n",
    "\n",
    "As an example, let's suppose we are an online publisher generating revenue from advertising. The more page views we get the more money we make. On each page we will put a list of articles we hope the viewer will like and hopefully click, generating revenue. But how do we choose which articles to show?\n",
    "\n",
    "This is an ideal situation for using a multi-armed bandit algorithm. As a simple example, we might have 20 articles from which we can choose one.\n",
    "\n",
    "One approach would be to show each article to a thousand people picked at random, record how many clicks each receive, and then show the article with the highest number to all future visitors.\n",
    "\n",
    "If after 100 visitors one article has received zero clicks should we persist and show it to a further 900 visitors? Or, are we throwing away advertising revenue? How about after 200, or 300?\n",
    "\n",
    "This is the explore-exploit trade-off. We can explore the different options at the risk of losing money during our trials or we can exploit actions we know to be good at the risk of missing out on better returns and stagnating."
   ]
  },
  {
   "cell_type": "markdown",
   "metadata": {},
   "source": [
    "### Adaptive clinical trials\n",
    "\n",
    "Parallels can be made with randomized clinical trials. If instead of page views we have patients, instead of clicks we have survival, and instead of articles we have treatments the situation resembles a randomized trial.\n",
    "\n",
    "Let's consider a trial with two different treatments. At the beginning of the trial we don't know which is best, and at the end, hopefully, we know one is better than the other. In a conventional trial the last patient enrolled still has an equal chance of being assigned to either treatment, even though we now know much more about the relative efficacy of the two treatments.\n",
    "\n",
    "Adaptive randomization attempts to maximize the benefit of the trial to the participants while maintaining the societal benefit.\n",
    "\n",
    "There have been a variety of models developed and studied for these trials but we can implement a simple algorithm for these multi-armed bandit problems.\n",
    "\n",
    "[Coupling adaptive randomization with EHRs](http://jama.jamanetwork.com/article.aspx?articleID=2210902)"
   ]
  },
  {
   "cell_type": "code",
   "execution_count": 5,
   "metadata": {
    "collapsed": true
   },
   "outputs": [],
   "source": [
    "import matplotlib.pyplot as plt\n",
    "import numpy as np\n",
    "%matplotlib inline"
   ]
  },
  {
   "cell_type": "code",
   "execution_count": 6,
   "metadata": {
    "collapsed": true
   },
   "outputs": [],
   "source": [
    "class Model(object):\n",
    "    def __init__(self, algo, algo_kwargs, weights=[0.1, 0.1], size=100, repeats=200):\n",
    "        self.algo = algo\n",
    "        self.algo_kwargs = algo_kwargs\n",
    "        self.weights = weights\n",
    "        self.size = size\n",
    "        self.repeats = repeats\n",
    "        \n",
    "    def run_simulation(self):\n",
    "        \"\"\"Run a single simulation, recording the performance\"\"\"\n",
    "        algo = self.algo(**self.algo_kwargs)\n",
    "        arm_choice_record = []\n",
    "        reward_record = []\n",
    "        for i in range(self.size):\n",
    "            arm = algo.choose_arm()\n",
    "            arm_choice_record.append(arm)\n",
    "            reward = np.random.random() < self.weights[arm]\n",
    "            reward_record.append(reward)\n",
    "            algo.update(arm, reward)\n",
    "        return arm_choice_record, reward_record\n",
    "    \n",
    "    def repeat_simulation(self):\n",
    "        \"\"\"Run multiple simulations, recording the performance of each\"\"\"\n",
    "        arm_choice = []\n",
    "        reward = []\n",
    "        for i in range(self.repeats):\n",
    "            arm_choice_record, reward_record = self.run_simulation()\n",
    "            arm_choice.append(arm_choice_record)\n",
    "            reward.append(reward_record)\n",
    "        self.arm_choice = np.array(arm_choice)\n",
    "        self.reward = np.array(reward)\n",
    "        \n",
    "    def plot_arm_frequency(self, ax):\n",
    "        \"\"\"Plot the frequency with which the second arm is chosen\n",
    "        NOTE: Currently only works for two arms\"\"\"\n",
    "        ax.plot(self.arm_choice.mean(axis=0), 'k.')\n",
    "        ax.set_title('Frequency of arm choice')\n",
    "        ax.set_xlabel('Trial')\n",
    "        ax.set_ylabel('Frequency')\n",
    "        return ax\n",
    "    \n",
    "    def plot_reward(self, ax):\n",
    "        \"\"\"Plot the average reward for each trial across all simulations\"\"\"\n",
    "        ax.plot(self.reward.mean(axis=0), 'k.')\n",
    "        ax.set_title('Reward')\n",
    "        ax.set_xlabel('Trial')\n",
    "        ax.set_ylabel('Reward')\n",
    "        return ax\n",
    "    \n",
    "    def plot_cumulative_reward(self, ax):\n",
    "        \"\"\"Plot the cumulative reward across all simulations\"\"\"\n",
    "        ax.plot(np.cumsum(self.reward, axis=1).mean(axis=0), 'k.')\n",
    "        ax.set_title('Cumulative Reward')\n",
    "        ax.set_xlabel('Trial')\n",
    "        ax.set_ylabel('Cumulative Reward')\n",
    "        return ax"
   ]
  },
  {
   "cell_type": "code",
   "execution_count": 3,
   "metadata": {
    "collapsed": true
   },
   "outputs": [],
   "source": [
    "class RCT(object):\n",
    "    def __init__(self, n_arms, epsilon):\n",
    "        self._epsilon = epsilon\n",
    "        self.counts = [0] * n_arms\n",
    "        self.values = [0] * n_arms\n",
    "        self.n_arms = n_arms\n",
    "    \n",
    "    def choose_arm(self):\n",
    "        \"\"\"Choose an arm\"\"\"\n",
    "        if np.random.random() > self.epsilon:\n",
    "            weights = np.array(self.values)\n",
    "            weights = weights == weights.max()\n",
    "            weights = weights / weights.sum()\n",
    "            return np.random.choice(np.arange(self.n_arms), p=weights)\n",
    "        else:\n",
    "            return np.random.randint(self.n_arms)\n",
    "        \n",
    "    \n",
    "    def update(self, arm, reward):\n",
    "        \"\"\"Update an arm with the reward\"\"\"\n",
    "        self.counts[arm] = self.counts[arm] + 1\n",
    "        n = self.counts[arm]\n",
    "        value = self.values[arm]\n",
    "        # Running product\n",
    "        self.values[arm] = ((n - 1) / n) * self.values[arm] + (1/n) * reward\n",
    "    \n",
    "    @property\n",
    "    def epsilon(self):\n",
    "        if sum(self.counts) < 100:\n",
    "            return 1\n",
    "        else:\n",
    "            return 0"
   ]
  },
  {
   "cell_type": "code",
   "execution_count": 4,
   "metadata": {
    "collapsed": false
   },
   "outputs": [
    {
     "data": {
      "image/png": "[encoded data removed]",
      "text/plain": [
       "<matplotlib.figure.Figure at 0x256ad9ff98>"
      ]
     },
     "metadata": {},
     "output_type": "display_data"
    }
   ],
   "source": [
    "model = Model(RCT, {'n_arms': 2, 'epsilon':0.05}, weights=[0.1, 0.2])\n",
    "model.repeat_simulation()\n",
    "\n",
    "fig, axes = plt.subplots(1,3, figsize=(18,6))\n",
    "model.plot_arm_frequency(ax=axes[0])\n",
    "model.plot_reward(ax=axes[1])\n",
    "model.plot_cumulative_reward(ax=axes[2])\n",
    "\n",
    "plt.show()"
   ]
  },
  {
   "cell_type": "code",
   "execution_count": 5,
   "metadata": {
    "collapsed": false
   },
   "outputs": [
    {
     "data": {
      "image/png": "[encoded data removed]",
      "text/plain": [
       "<matplotlib.figure.Figure at 0x28607b86438>"
      ]
     },
     "metadata": {},
     "output_type": "display_data"
    }
   ],
   "source": [
    "class EpsilonGreedy(RCT):\n",
    "    \n",
    "    @property\n",
    "    def epsilon(self):\n",
    "        return self._epsilon\n",
    "\n",
    "model = Model(EpsilonGreedy, {'n_arms': 2, 'epsilon':0.05}, weights=[0.1, 0.2])\n",
    "model.repeat_simulation()\n",
    "\n",
    "fig, axes = plt.subplots(1,3, figsize=(18,6))\n",
    "model.plot_arm_frequency(ax=axes[0])\n",
    "model.plot_reward(ax=axes[1])\n",
    "model.plot_cumulative_reward(ax=axes[2])\n",
    "\n",
    "plt.show()"
   ]
  },
  {
   "cell_type": "markdown",
   "metadata": {},
   "source": [
    "# Machine learning beyond the algorithms\n",
    "\n",
    "Much of our time working on machine learning algorithms is actually spent on relatively mundane tasks:\n",
    "\n",
    "- Reading and cleaning the data\n",
    "- Understanding the structure of the data and changing it to be suitable for use with our tools.\n",
    "- Applying our machine learning approach of choice __(perhaps 10% of our time)__\n",
    "- Measuring performance\n",
    "\n",
    "We will be spending much of our time with tools we are already familiar with. Python itself, numpy, scipy, pandas, and matplotlib will all likely be relied upon."
   ]
  },
  {
   "cell_type": "markdown",
   "metadata": {},
   "source": [
    "# Final Projects"
   ]
  },
  {
   "cell_type": "markdown",
   "metadata": {},
   "source": [
    "The final part of the course is the project. These should be relatively substantial but do not need to include everything we have covered during the course. If it doesn't make sense to include a particular concept then don't try to force it in to a project.\n",
    "\n",
    "The project can be relevant to your work, useful in your personal life, or purely educational. \n",
    "\n",
    "If you choose a project relevant to your work please be sure you are not exposing any confidential information, including PII, PHI, or intellectual property. For PII and PHI issues can be avoided using fictitious example data.\n",
    "\n",
    "If you are struggling to find an idea consider looking at [kaggle](http://kaggle.com), this is a competition site that aims to find better solutions to problems using machine learning. Anyone can compete and these challenges would fall within the educational category.\n",
    "\n",
    "The first step in working on a project is deciding what to do. Ideally the project would neither be too difficult not too easy. So that I can provide feedback send in your idea and we can make sure it is suitable."
   ]
  },
  {
   "cell_type": "code",
   "execution_count": null,
   "metadata": {
    "collapsed": true
   },
   "outputs": [],
   "source": []
  },
  {
   "cell_type": "markdown",
   "metadata": {},
   "source": [
    "# Assignments\n",
    "\n",
    "1. Send in a rough outline of your project idea. This is __not graded__, I will ask for a more complete description later for inclusion in grading.\n",
    "2. Plot the performance of the RCT and EpsilonGreedy algorithms on the same plots so that they can more easily be compared.\n",
    "3. Investigate how changing the value of epsilon changes the performance of the EpsilonGreedy algorithm. Reuse your approach from assignment #2 to plot the performance for different epsilon values.\n",
    "4. When we have very little information on the relative performance of the two arms a high exploration rate quickly provides us with additional information. However, after several hundred trials we are relatively confident in the performance of each arm and a high exploration rate is detrimental as we will be choosing an arm we know to be inferior at a high rate. A better approach would be to reduce the exploration rate as we acquire more information. This is a very similar approach to the simulated annealing optimizer we looked at in week 2. Create a new class that inherits from EpsilonGreedy and gradually reduces the value of epsilon over time.\n",
    "\n",
    "## Due for next week\n",
    "\n",
    "1. Rough outline of project idea\n",
    "2. Plots showing both EpsilonGreedy and RCT performance\n",
    "3. Plots showing EpsilonGreedy performance with different epsilon values\n",
    "4. Class implementing EpsilonGreedy with an adaptive epsilon value."
   ]
  },
  {
   "cell_type": "code",
   "execution_count": null,
   "metadata": {
    "collapsed": true
   },
   "outputs": [],
   "source": []
  }
 ],
 "metadata": {
  "kernelspec": {
   "display_name": "Python 3",
   "language": "python",
   "name": "python3"
  },
  "language_info": {
   "codemirror_mode": {
    "name": "ipython",
    "version": 3
   },
   "file_extension": ".py",
   "mimetype": "text/x-python",
   "name": "python",
   "nbconvert_exporter": "python",
   "pygments_lexer": "ipython3",
   "version": "3.5.1"
  }
 },
 "nbformat": 4,
 "nbformat_minor": 0
}
