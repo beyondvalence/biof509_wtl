{
 "cells": [
  {
   "cell_type": "code",
   "execution_count": 1,
   "metadata": {
    "collapsed": false
   },
   "outputs": [
    {
     "name": "stdout",
     "output_type": "stream",
     "text": [
      "Numpy: 1.10.4\n"
     ]
    }
   ],
   "source": [
    "\"\"\"Improved genetic algorithm for shortest path linking coordinates\n",
    "\n",
    "    FAES BIOF509, Week 02\n",
    "    Changed to generational creation of unique populations\n",
    "    Instead of using same population and iterating through generations\n",
    "    20160219 Wayne Liu\n",
    "\"\"\"\n",
    "\n",
    "import itertools\n",
    "import math\n",
    "import matplotlib.pyplot as plt\n",
    "import numpy as np\n",
    "import random\n",
    "\n",
    "%matplotlib inline\n",
    "\n",
    "print(\"Numpy:\", np.__version__)\n",
    "\n",
    "random.seed(0)"
   ]
  },
  {
   "cell_type": "code",
   "execution_count": 22,
   "metadata": {
    "collapsed": true
   },
   "outputs": [],
   "source": [
    "def distance(coords):\n",
    "    distance = 0\n",
    "    for p1, p2 in zip(coords[:-1], coords[1:]):\n",
    "        distance += ((p2[0] - p1[0]) ** 2 + (p2[1] - p1[1]) ** 2) ** 0.5\n",
    "    return distance"
   ]
  },
  {
   "cell_type": "code",
   "execution_count": 23,
   "metadata": {
    "collapsed": false
   },
   "outputs": [],
   "source": [
    "def select_best(population, cost_func, num_to_keep):\n",
    "    \"\"\"Selects best specified population based on the cost function\n",
    "    \n",
    "    Arguments:\n",
    "    population -- List of shuffled coordinates\n",
    "    cost_func -- Function deriving optimized metric\n",
    "    num_to_keep -- Number of best population to keep\n",
    "    \n",
    "    Returns:\n",
    "    List of best optimized  specified number of coordinates\n",
    "    \"\"\"\n",
    "    scored_population = [(i, cost_func(i)) for i in population]\n",
    "    scored_population.sort(key=lambda x: x[1])\n",
    "    return [i[0] for i in scored_population[:num_to_keep]]\n",
    "\n",
    "\n",
    "def new_path(existing_path):\n",
    "    \"\"\"Reorders list of coordinates\n",
    "    \n",
    "    Arguments:\n",
    "    existing_path -- List of coordinates, e.g. [(0,0), (1,1)]\n",
    "        \n",
    "    Returns:\n",
    "    path -- List of reordered coordinates, e.g. [(0,0), (1,1)]\n",
    "    \"\"\"\n",
    "    path = existing_path[:]\n",
    "    # switches three points instead of two, marginally better\n",
    "    point = random.randint(0, len(path)-3)\n",
    "    path[point+2], path[point+1], path[point] = path[point], path[point+2], path[point+1]\n",
    "    # print(point)\n",
    "    return path"
   ]
  },
  {
   "cell_type": "code",
   "execution_count": 54,
   "metadata": {
    "collapsed": true
   },
   "outputs": [],
   "source": [
    "def recombine(population, new_path_func):\n",
    "    \"\"\"Recombines random two halves of two random sets of coordinates\n",
    "    \n",
    "    Argument:\n",
    "    population -- List of coordinates, e.g. [(0,0), (1,1)]\n",
    "    new_path_func -- Function that swaps coordinate positions\n",
    "    \n",
    "    Returns:\n",
    "    child -- A set of coordinates, recombined from two random sets of coordinates, e.g. [(9,9), (2,3)]\n",
    "    \"\"\"\n",
    "    # Randomly choose two parents\n",
    "    options = list(range(len(population)))\n",
    "    random.shuffle(options)\n",
    "    partner1 = options[0]\n",
    "    partner2 = options[1]\n",
    "    # Choose a split point, take the first parents order to that split point, \n",
    "    # then the second parents order for all remaining points\n",
    "    split_point = random.randint(1, len(population[0])-2) # forces a change, cannot keep same parent\n",
    "    child = population[partner1][:split_point]\n",
    "    for point in population[partner2]:\n",
    "        if point not in child:\n",
    "            child.append(point)\n",
    "    child = new_path_func(child) # use new path to scramble the order\n",
    "    return child"
   ]
  },
  {
   "cell_type": "code",
   "execution_count": 93,
   "metadata": {
    "collapsed": false
   },
   "outputs": [],
   "source": [
    "def genetic_algorithm_optimizer(starting_path, cost_func, new_path_func, pop_size, generations):\n",
    "    \"\"\"Selects best path from set of coordinates by randomly joining two sets of coordinates\n",
    "    \n",
    "    Arguments:\n",
    "    starting_path -- List of coordinates, e.g. [(0,0), (1,1)]\n",
    "    cost_func -- Optimization metric calculator, e.g. distance()\n",
    "    new_path_func -- Returns reordered coordinates, e.g. new_path()\n",
    "    pop_size -- Number of each set of coordinates in each generation, 500\n",
    "    generations -- Number of iterations, 100\n",
    "    \n",
    "    Returns:\n",
    "    best_path -- A list of optimized coordinates, e.g. [(2,3), (5,6)]\n",
    "    best_cost -- The optimized least distance\n",
    "    history -- Dictionary of generation and distance metrics\n",
    "    \"\"\"\n",
    "    history = []\n",
    "    for w in range(generations):\n",
    "        # Create a population by randomly shuffling the points\n",
    "        population = []\n",
    "        for i in range(pop_size):\n",
    "            new_path = starting_path[:]\n",
    "            random.shuffle(new_path)\n",
    "            population.append(new_path)\n",
    "        # Select the top 20% of routes  \n",
    "        pop_best = select_best(population, cost_func, int(pop_size / 5))\n",
    "        new_population = []\n",
    "        # Mutate random top 20% routes by joining and reordering\n",
    "        for i in range(pop_size):\n",
    "            path = recombine(pop_best, new_path_func)\n",
    "            new_population.append(path) \n",
    "        population = new_population\n",
    "        # Sort best route within generation\n",
    "        record = [(w, n, cost_func(n)) for n in population]\n",
    "        record.sort(key= lambda x: x[2])\n",
    "        history.append(record[0])\n",
    "    # Sort best route among generations\n",
    "    print(\"best of first gen:\", history[0])\n",
    "    history.sort(key=lambda x: x[2])\n",
    "    print(\"best:\", history[0])\n",
    "    best_path = history[0][1]\n",
    "    best_cost = history[0][2]\n",
    "    history.sort(key=lambda x: x[0])\n",
    "    return (best_path, best_cost, history)"
   ]
  },
  {
   "cell_type": "code",
   "execution_count": 52,
   "metadata": {
    "collapsed": false
   },
   "outputs": [],
   "source": [
    "coords = [(0,0), (10,5), (10,10), (5,10), (3,3), (3,7), (12,3), (10,11)]"
   ]
  },
  {
   "cell_type": "code",
   "execution_count": 97,
   "metadata": {
    "collapsed": false
   },
   "outputs": [
    {
     "name": "stdout",
     "output_type": "stream",
     "text": [
      "best of first gen: (0, [(5, 10), (10, 11), (10, 10), (10, 5), (12, 3), (3, 7), (0, 0), (3, 3)], 35.63471823311827)\n",
      "best: (21, [(12, 3), (10, 5), (10, 10), (10, 11), (5, 10), (3, 7), (3, 3), (0, 0)], 25.775638600922246)\n",
      "best cost: 25.775638600922246\n"
     ]
    },
    {
     "data": {
      "image/png": "[encoded data removed]",
      "text/plain": [
       "<matplotlib.figure.Figure at 0x8e92518>"
      ]
     },
     "metadata": {},
     "output_type": "display_data"
    }
   ],
   "source": [
    "best_path, best_cost, history = genetic_algorithm_optimizer(coords, distance, new_path, 100, 50)\n",
    "print(\"best cost:\", best_cost)\n",
    "plt.plot([i[2] for i in history])\n",
    "plt.show()  "
   ]
  },
  {
   "cell_type": "code",
   "execution_count": 98,
   "metadata": {
    "collapsed": false
   },
   "outputs": [
    {
     "data": {
      "image/png": "[encoded data removed]",
      "text/plain": [
       "<matplotlib.figure.Figure at 0x7db7320>"
      ]
     },
     "metadata": {},
     "output_type": "display_data"
    }
   ],
   "source": [
    "plt.plot([i[0] for i in best_path], [i[1] for i in best_path])\n",
    "plt.show()"
   ]
  }
 ],
 "metadata": {
  "kernelspec": {
   "display_name": "Python 3",
   "language": "python",
   "name": "python3"
  },
  "language_info": {
   "codemirror_mode": {
    "name": "ipython",
    "version": 3
   },
   "file_extension": ".py",
   "mimetype": "text/x-python",
   "name": "python",
   "nbconvert_exporter": "python",
   "pygments_lexer": "ipython3",
   "version": "3.5.1"
  }
 },
 "nbformat": 4,
 "nbformat_minor": 0
}
